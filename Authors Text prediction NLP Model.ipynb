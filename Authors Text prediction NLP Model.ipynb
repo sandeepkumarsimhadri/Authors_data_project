{
 "cells": [
  {
   "cell_type": "code",
   "execution_count": 3,
   "id": "b0a57d41",
   "metadata": {},
   "outputs": [],
   "source": [
    "import pandas as pd\n",
    "from nltk.tokenize import RegexpTokenizer\n",
    "from nltk.corpus import stopwords\n",
    "from nltk.stem import WordNetLemmatizer\n",
    "from sklearn.model_selection import train_test_split\n",
    "from sklearn.preprocessing import LabelEncoder\n",
    "import warnings\n",
    "warnings.filterwarnings('ignore')\n"
   ]
  },
  {
   "cell_type": "code",
   "execution_count": 4,
   "id": "c41801eb",
   "metadata": {},
   "outputs": [
    {
     "data": {
      "text/plain": [
       "EAP    7900\n",
       "MWS    6044\n",
       "HPL    5635\n",
       "Name: author, dtype: int64"
      ]
     },
     "execution_count": 4,
     "metadata": {},
     "output_type": "execute_result"
    }
   ],
   "source": [
    "a_df=pd.read_csv('Authors-dataset.csv')\n",
    "a_df.head()\n",
    "y=a_df['author']\n",
    "a_df.drop(columns=['author','id'],inplace=True)\n",
    "y.value_counts()"
   ]
  },
  {
   "cell_type": "code",
   "execution_count": 5,
   "id": "b4358c90",
   "metadata": {},
   "outputs": [
    {
     "data": {
      "text/html": [
       "<div>\n",
       "<style scoped>\n",
       "    .dataframe tbody tr th:only-of-type {\n",
       "        vertical-align: middle;\n",
       "    }\n",
       "\n",
       "    .dataframe tbody tr th {\n",
       "        vertical-align: top;\n",
       "    }\n",
       "\n",
       "    .dataframe thead th {\n",
       "        text-align: right;\n",
       "    }\n",
       "</style>\n",
       "<table border=\"1\" class=\"dataframe\">\n",
       "  <thead>\n",
       "    <tr style=\"text-align: right;\">\n",
       "      <th></th>\n",
       "      <th>text</th>\n",
       "    </tr>\n",
       "  </thead>\n",
       "  <tbody>\n",
       "    <tr>\n",
       "      <th>0</th>\n",
       "      <td>This process, however, afforded me no means of...</td>\n",
       "    </tr>\n",
       "    <tr>\n",
       "      <th>1</th>\n",
       "      <td>It never once occurred to me that the fumbling...</td>\n",
       "    </tr>\n",
       "    <tr>\n",
       "      <th>2</th>\n",
       "      <td>In his left hand was a gold snuff box, from wh...</td>\n",
       "    </tr>\n",
       "    <tr>\n",
       "      <th>3</th>\n",
       "      <td>How lovely is spring As we looked from Windsor...</td>\n",
       "    </tr>\n",
       "    <tr>\n",
       "      <th>4</th>\n",
       "      <td>Finding nothing else, not even gold, the Super...</td>\n",
       "    </tr>\n",
       "    <tr>\n",
       "      <th>...</th>\n",
       "      <td>...</td>\n",
       "    </tr>\n",
       "    <tr>\n",
       "      <th>19574</th>\n",
       "      <td>I could have fancied, while I looked at it, th...</td>\n",
       "    </tr>\n",
       "    <tr>\n",
       "      <th>19575</th>\n",
       "      <td>The lids clenched themselves together as if in...</td>\n",
       "    </tr>\n",
       "    <tr>\n",
       "      <th>19576</th>\n",
       "      <td>Mais il faut agir that is to say, a Frenchman ...</td>\n",
       "    </tr>\n",
       "    <tr>\n",
       "      <th>19577</th>\n",
       "      <td>For an item of news like this, it strikes us i...</td>\n",
       "    </tr>\n",
       "    <tr>\n",
       "      <th>19578</th>\n",
       "      <td>He laid a gnarled claw on my shoulder, and it ...</td>\n",
       "    </tr>\n",
       "  </tbody>\n",
       "</table>\n",
       "<p>19579 rows × 1 columns</p>\n",
       "</div>"
      ],
      "text/plain": [
       "                                                    text\n",
       "0      This process, however, afforded me no means of...\n",
       "1      It never once occurred to me that the fumbling...\n",
       "2      In his left hand was a gold snuff box, from wh...\n",
       "3      How lovely is spring As we looked from Windsor...\n",
       "4      Finding nothing else, not even gold, the Super...\n",
       "...                                                  ...\n",
       "19574  I could have fancied, while I looked at it, th...\n",
       "19575  The lids clenched themselves together as if in...\n",
       "19576  Mais il faut agir that is to say, a Frenchman ...\n",
       "19577  For an item of news like this, it strikes us i...\n",
       "19578  He laid a gnarled claw on my shoulder, and it ...\n",
       "\n",
       "[19579 rows x 1 columns]"
      ]
     },
     "execution_count": 5,
     "metadata": {},
     "output_type": "execute_result"
    }
   ],
   "source": [
    "a_df"
   ]
  },
  {
   "cell_type": "code",
   "execution_count": 53,
   "id": "9ff9e87a",
   "metadata": {},
   "outputs": [],
   "source": [
    "#since output is in text format we need to do label encoding\n",
    "le=LabelEncoder()\n",
    "y=le.fit_transform(y)\n"
   ]
  },
  {
   "cell_type": "code",
   "execution_count": 97,
   "id": "8769cbd6",
   "metadata": {},
   "outputs": [],
   "source": [
    "tokenizer=RegexpTokenizer('\\s+', gaps = True)\n",
    "sw_en=stopwords.words('english')\n",
    "lemmatizer = WordNetLemmatizer()\n",
    "\n",
    "def preprocessing(text):\n",
    "    tokens=tokenizer.tokenize(text)\n",
    "    pur_tokens=[token.lower() for token in tokens if token.lower() not in sw_en ]\n",
    "    lem_tokens=[lemmatizer.lemmatize(token,pos='v') for  token in pur_tokens ]\n",
    "    return ' '.join(lem_tokens)\n",
    "\n",
    "x_train,x_test,y_train,y_test=train_test_split(a_df,y,test_size=0.2,random_state=42)\n",
    "\n",
    "x_train['preprocessed_txt']= x_train['text'].apply(preprocessing)\n",
    "x_test['Preprocessed_txt']=x_test['text'].apply(preprocessing)"
   ]
  },
  {
   "cell_type": "code",
   "execution_count": 89,
   "id": "845c27e0",
   "metadata": {},
   "outputs": [],
   "source": [
    "from sklearn.feature_extraction.text import TfidfVectorizer\n",
    "\n",
    "tfidf = TfidfVectorizer()\n",
    "\n",
    "x_train_tfidf=tfidf.fit_transform(x_train['preprocessed_txt'])\n",
    "x_test_tfidf=tfidf.transform(x_test['Preprocessed_txt'])\n",
    "\n",
    "#tfidf.get_feature_names()"
   ]
  },
  {
   "cell_type": "code",
   "execution_count": 101,
   "id": "c06a7a61",
   "metadata": {},
   "outputs": [],
   "source": [
    "from sklearn.naive_bayes import MultinomialNB\n",
    "\n",
    "mlnb=MultinomialNB()\n",
    "mlnb.fit(x_train_tfidf,y_train) \n",
    "\n",
    "y_test_pred=mlnb.predict(x_test_tfidf)"
   ]
  },
  {
   "cell_type": "code",
   "execution_count": 115,
   "id": "5d55b756",
   "metadata": {},
   "outputs": [
    {
     "data": {
      "text/plain": [
       "array([[1390,   61,  119],\n",
       "       [ 227,  773,   71],\n",
       "       [ 213,   36, 1026]], dtype=int64)"
      ]
     },
     "execution_count": 115,
     "metadata": {},
     "output_type": "execute_result"
    }
   ],
   "source": [
    "from sklearn.metrics import confusion_matrix,recall_score,precision_score,f1_score\n",
    "\n",
    "confusion_matrix(y_test,y_test_pred)"
   ]
  },
  {
   "cell_type": "code",
   "execution_count": 109,
   "id": "59d53f16",
   "metadata": {},
   "outputs": [
    {
     "data": {
      "text/plain": [
       "array([0.88535032, 0.72175537, 0.80470588])"
      ]
     },
     "execution_count": 109,
     "metadata": {},
     "output_type": "execute_result"
    }
   ],
   "source": [
    "recall_score(y_test,y_test_pred,average=None)"
   ]
  },
  {
   "cell_type": "code",
   "execution_count": 113,
   "id": "37939c3f",
   "metadata": {},
   "outputs": [
    {
     "data": {
      "text/plain": [
       "array([0.75956284, 0.88850575, 0.84375   ])"
      ]
     },
     "execution_count": 113,
     "metadata": {},
     "output_type": "execute_result"
    }
   ],
   "source": [
    "precision_score(y_test,y_test_pred,average=None)"
   ]
  },
  {
   "cell_type": "code",
   "execution_count": 116,
   "id": "96e52560",
   "metadata": {},
   "outputs": [
    {
     "data": {
      "text/plain": [
       "array([0.81764706, 0.79649665, 0.82376556])"
      ]
     },
     "execution_count": 116,
     "metadata": {},
     "output_type": "execute_result"
    }
   ],
   "source": [
    "f1_score(y_test,y_test_pred,average=None)"
   ]
  }
 ],
 "metadata": {
  "kernelspec": {
   "display_name": "Python 3 (ipykernel)",
   "language": "python",
   "name": "python3"
  },
  "language_info": {
   "codemirror_mode": {
    "name": "ipython",
    "version": 3
   },
   "file_extension": ".py",
   "mimetype": "text/x-python",
   "name": "python",
   "nbconvert_exporter": "python",
   "pygments_lexer": "ipython3",
   "version": "3.9.7"
  }
 },
 "nbformat": 4,
 "nbformat_minor": 5
}
